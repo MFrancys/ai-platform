{
 "cells": [
  {
   "cell_type": "code",
   "execution_count": 1,
   "metadata": {},
   "outputs": [],
   "source": [
    "%load_ext autoreload\n",
    "%autoreload 2"
   ]
  },
  {
   "cell_type": "code",
   "execution_count": 4,
   "metadata": {},
   "outputs": [
    {
     "ename": "ModuleNotFoundError",
     "evalue": "No module named 'src.data.processing_data'",
     "output_type": "error",
     "traceback": [
      "\u001b[1;31m---------------------------------------------------------------------------\u001b[0m",
      "\u001b[1;31mModuleNotFoundError\u001b[0m                       Traceback (most recent call last)",
      "\u001b[1;32m<ipython-input-4-08beb70f0b1b>\u001b[0m in \u001b[0;36m<module>\u001b[1;34m()\u001b[0m\n\u001b[0;32m      2\u001b[0m \u001b[1;32mimport\u001b[0m \u001b[0mpandas\u001b[0m \u001b[1;32mas\u001b[0m \u001b[0mpd\u001b[0m\u001b[1;33m\u001b[0m\u001b[0m\n\u001b[0;32m      3\u001b[0m \u001b[1;33m\u001b[0m\u001b[0m\n\u001b[1;32m----> 4\u001b[1;33m \u001b[1;32mfrom\u001b[0m \u001b[0msrc\u001b[0m\u001b[1;33m.\u001b[0m\u001b[0mdata\u001b[0m\u001b[1;33m.\u001b[0m\u001b[0mprocessing_data\u001b[0m \u001b[1;32mimport\u001b[0m \u001b[0mtest_stationary\u001b[0m\u001b[1;33m\u001b[0m\u001b[0m\n\u001b[0m",
      "\u001b[1;31mModuleNotFoundError\u001b[0m: No module named 'src.data.processing_data'"
     ]
    }
   ],
   "source": [
    "import os\n",
    "import pandas as pd\n",
    "\n",
    "from src.data.processing_data import test_stationary"
   ]
  },
  {
   "cell_type": "code",
   "execution_count": 10,
   "metadata": {},
   "outputs": [
    {
     "ename": "NameError",
     "evalue": "name 'test_stationary' is not defined",
     "output_type": "error",
     "traceback": [
      "\u001b[1;31m---------------------------------------------------------------------------\u001b[0m",
      "\u001b[1;31mNameError\u001b[0m                                 Traceback (most recent call last)",
      "\u001b[1;32m<ipython-input-10-8887fca4ef10>\u001b[0m in \u001b[0;36m<module>\u001b[1;34m()\u001b[0m\n\u001b[0;32m      8\u001b[0m \u001b[0mTARGET\u001b[0m \u001b[1;33m=\u001b[0m \u001b[1;34m\"Close\"\u001b[0m\u001b[1;33m\u001b[0m\u001b[0m\n\u001b[0;32m      9\u001b[0m \u001b[1;31m###Test for stationary\u001b[0m\u001b[1;33m\u001b[0m\u001b[1;33m\u001b[0m\u001b[0m\n\u001b[1;32m---> 10\u001b[1;33m \u001b[0mdf_daily_bitcoin\u001b[0m\u001b[1;33m[\u001b[0m\u001b[1;34m\"DiffClose\"\u001b[0m\u001b[1;33m]\u001b[0m\u001b[1;33m,\u001b[0m \u001b[0madf_test\u001b[0m \u001b[1;33m=\u001b[0m \u001b[0mtest_stationary\u001b[0m\u001b[1;33m(\u001b[0m\u001b[0mdf_daily_bitcoin\u001b[0m\u001b[1;33m,\u001b[0m \u001b[0mTARGET\u001b[0m\u001b[1;33m)\u001b[0m\u001b[1;33m\u001b[0m\u001b[0m\n\u001b[0m\u001b[0;32m     11\u001b[0m \u001b[0mdf_daily_bitcoin\u001b[0m \u001b[1;33m=\u001b[0m \u001b[0mdf_daily_bitcoin\u001b[0m\u001b[1;33m.\u001b[0m\u001b[0mdropna\u001b[0m\u001b[1;33m(\u001b[0m\u001b[0msubset\u001b[0m\u001b[1;33m=\u001b[0m\u001b[1;33m[\u001b[0m\u001b[1;34m\"DiffClose\"\u001b[0m\u001b[1;33m]\u001b[0m\u001b[1;33m)\u001b[0m\u001b[1;33m\u001b[0m\u001b[0m\n",
      "\u001b[1;31mNameError\u001b[0m: name 'test_stationary' is not defined"
     ]
    }
   ],
   "source": [
    "###Import and load time series Bitcoin by daily\n",
    "ROOT_PATH = os.path.dirname(os.getcwd())\n",
    "PATH_DATA = os.path.join(ROOT_PATH, \"data\\\\processed\\\\ts_daily_bitcoin_2019-01-01_2019-03-13.csv\") \n",
    "df_daily_bitcoin = pd.read_csv(PATH_DATA).sort_index()\n",
    "#df_daily_bitcoin = df_daily_bitcoin.set_index(pd.to_datetime(df_daily_bitcoin[\"Timestamp\"])).sort_index()\n",
    "df_daily_bitcoin.tail()\n",
    "\n",
    "TARGET = \"Close\"\n",
    "###Test for stationary\n",
    "df_daily_bitcoin[\"DiffClose\"], adf_test = test_stationary(df_daily_bitcoin, TARGET)\n",
    "df_daily_bitcoin = df_daily_bitcoin.dropna(subset=[\"DiffClose\"])\n",
    "\n",
    "window = 7\n",
    "settings  = \n",
    "\n",
    "TARGET = \n",
    "list_features= \n",
    "df_daily_bitcoin = extraction_features_ts(df_daily_bitcoin, window, settings, TARGET, list_features)\n"
   ]
  },
  {
   "cell_type": "code",
   "execution_count": null,
   "metadata": {},
   "outputs": [],
   "source": []
  }
 ],
 "metadata": {
  "hide_input": false,
  "kernelspec": {
   "display_name": "myvenv",
   "language": "python",
   "name": "myvenv"
  },
  "language_info": {
   "codemirror_mode": {
    "name": "ipython",
    "version": 3
   },
   "file_extension": ".py",
   "mimetype": "text/x-python",
   "name": "python",
   "nbconvert_exporter": "python",
   "pygments_lexer": "ipython3",
   "version": "3.7.0"
  }
 },
 "nbformat": 4,
 "nbformat_minor": 2
}
